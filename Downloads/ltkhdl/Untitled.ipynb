{
 "cells": [
  {
   "cell_type": "code",
   "execution_count": 13,
   "id": "c2081357",
   "metadata": {},
   "outputs": [
    {
     "name": "stderr",
     "output_type": "stream",
     "text": [
      "Cloning into 'Project-P4DS'...\n"
     ]
    }
   ],
   "source": [
    "!git clone https://github.com/dolekhanhdang/Project-P4DS.git"
   ]
  },
  {
   "cell_type": "code",
   "execution_count": 23,
   "id": "1043a7e3",
   "metadata": {},
   "outputs": [
    {
     "name": "stdout",
     "output_type": "stream",
     "text": [
      "Final Project.ipynb\n",
      "README.md\n",
      "data_cleaned_2021.csv\n"
     ]
    },
    {
     "name": "stderr",
     "output_type": "stream",
     "text": [
      "fatal: A branch named 'branch_of_Tu' already exists.\n",
      "remote: \n",
      "remote: Create a pull request for 'branch_of_Tu' on GitHub by visiting:        \n",
      "remote:      https://github.com/dolekhanhdang/Project-P4DS/pull/new/branch_of_Tu        \n",
      "remote: \n",
      "To https://github.com/dolekhanhdang/Project-P4DS.git\n",
      " * [new branch]      branch_of_Tu -> branch_of_Tu\n"
     ]
    }
   ],
   "source": [
    "!cd Project-P4DS & ls & git checkout -b branch_of_Tu & git push origin branch_of_Tu"
   ]
  },
  {
   "cell_type": "code",
   "execution_count": null,
   "id": "23edca9a",
   "metadata": {},
   "outputs": [],
   "source": []
  },
  {
   "cell_type": "code",
   "execution_count": null,
   "id": "452a682b",
   "metadata": {},
   "outputs": [],
   "source": []
  },
  {
   "cell_type": "code",
   "execution_count": null,
   "id": "ac7463fa",
   "metadata": {},
   "outputs": [],
   "source": []
  },
  {
   "cell_type": "code",
   "execution_count": null,
   "id": "3a460106",
   "metadata": {},
   "outputs": [],
   "source": []
  },
  {
   "cell_type": "code",
   "execution_count": null,
   "id": "86209ad6",
   "metadata": {},
   "outputs": [],
   "source": []
  },
  {
   "cell_type": "code",
   "execution_count": null,
   "id": "c8f33118",
   "metadata": {},
   "outputs": [],
   "source": []
  },
  {
   "cell_type": "code",
   "execution_count": null,
   "id": "67d5ee34",
   "metadata": {},
   "outputs": [],
   "source": []
  },
  {
   "cell_type": "code",
   "execution_count": null,
   "id": "aa7a1ec4",
   "metadata": {},
   "outputs": [],
   "source": []
  }
 ],
 "metadata": {
  "kernelspec": {
   "display_name": "Python 3 (ipykernel)",
   "language": "python",
   "name": "python3"
  },
  "language_info": {
   "codemirror_mode": {
    "name": "ipython",
    "version": 3
   },
   "file_extension": ".py",
   "mimetype": "text/x-python",
   "name": "python",
   "nbconvert_exporter": "python",
   "pygments_lexer": "ipython3",
   "version": "3.8.8"
  }
 },
 "nbformat": 4,
 "nbformat_minor": 5
}